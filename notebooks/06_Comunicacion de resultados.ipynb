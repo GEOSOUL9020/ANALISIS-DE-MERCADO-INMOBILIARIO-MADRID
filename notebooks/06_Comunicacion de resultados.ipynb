{
 "cells": [
  {
   "cell_type": "markdown",
   "id": "3ab547cb",
   "metadata": {
    "hide_input": false
   },
   "source": [
    "# COMUNICACION DE RESULTADOS"
   ]
  },
  {
   "cell_type": "markdown",
   "id": "008b2ee3",
   "metadata": {},
   "source": [
    "## CONTEXTO DEL ANALISIS"
   ]
  },
  {
   "cell_type": "markdown",
   "id": "fa1049a8",
   "metadata": {},
   "source": [
    "La empresa ha seleccionado la ciudad de Madrid como candidata para buscar inmuebles en los que invertir con el objetivo de obtener rentabilidad mediante alquiler turístico."
   ]
  },
  {
   "cell_type": "markdown",
   "id": "25172c07",
   "metadata": {},
   "source": [
    "## OBJETIVOS"
   ]
  },
  {
   "cell_type": "markdown",
   "id": "a101484b",
   "metadata": {},
   "source": [
    "* Analizar las fuentes de datos públicas disponibles\n",
    "* Para encontrar insights que ayuden a entender las características del mercado en esta ciudad\n",
    "* Y guíen el trabajo de búsqueda del equipo de valoraciones\n",
    "* Especialmente en cuanto a los principales ejes: precio del alquiler, niveles de ocupación y precio de compra"
   ]
  },
  {
   "cell_type": "markdown",
   "id": "2fa4a968",
   "metadata": {},
   "source": [
    "## CONCLUSIONES EJECUTIVAS"
   ]
  },
  {
   "cell_type": "markdown",
   "id": "138676ef",
   "metadata": {},
   "source": [
    "* Se han localizado 10 barrios en los que centrar la búsqueda\n",
    "* Se recomienda buscar inmuebles con un habitación que permitan alojar 3 huéspedes\n",
    "* Se recomienda buscar inmuebles que estando en uno de los barrios identificados no estén necesariamente cerca de puntos de interés\n",
    "* Se recomienda evaluar el desarrollo de un nuevo producto basado en el alquiler para momentos concretos de alto interés deportivo, especialmente en el barrio de San Blas"
   ]
  },
  {
   "cell_type": "markdown",
   "id": "3c486247",
   "metadata": {},
   "source": [
    "## DETALLE DE LOS PRINCIPALES RESULTADOS"
   ]
  },
  {
   "cell_type": "markdown",
   "id": "fcde57c4",
   "metadata": {},
   "source": [
    "### Existen 10 barrios con alto potencial de inversión"
   ]
  },
  {
   "cell_type": "markdown",
   "id": "65d0c737",
   "metadata": {},
   "source": [
    "* Se han localizado 10 barrios que apriori pueden maximizar la relación coste-ingresos\n",
    "* Además podemos segmentarlos por el tipo calidad del inmueble en el que nos interes invertir en 4 grandes grupos\n",
    "* Estos son los 10 barrios donde comenzar a buscar oportunidades concretas:\n",
    "    * Inversión baja: Simancas, Ambroz, Marroquina, San Juan Bautista\n",
    "    * Inversión media: El Plantio, Valdemarín, Valdefuentes\n",
    "    * Inversión media-alta: Jerónimos, Fuentela reina\n",
    "    * Inversión alta: Recoletos"
   ]
  },
  {
   "cell_type": "markdown",
   "id": "57fc9cdc",
   "metadata": {},
   "source": [
    "### Buscar inmuebles de una habitación que permitan 3 huéspedes"
   ]
  },
  {
   "cell_type": "markdown",
   "id": "4a3dda78",
   "metadata": {},
   "source": [
    "* El número de huéspedes que maximiza el precio de compra pagado es de 3"
   ]
  },
  {
   "cell_type": "markdown",
   "id": "9da007d2",
   "metadata": {},
   "source": [
    "### Buscar inmuebles que estando en uno de los barrios identificados no estén necesariamente cerca de puntos de interés"
   ]
  },
  {
   "cell_type": "markdown",
   "id": "b4e2d753",
   "metadata": {},
   "source": [
    "* Previsiblemente tendrán menor precio de compra\n",
    "* Parece que la cercanía a puntos de interés no tiene un especial impacto sobre el precio del alquiler"
   ]
  },
  {
   "cell_type": "markdown",
   "id": "1d8bed74",
   "metadata": {},
   "source": [
    "### Evaluar el desarrollo de un nuevo producto basado en el alquier para momentos concretos de alto interés deportivo"
   ]
  },
  {
   "cell_type": "markdown",
   "id": "0156f43b",
   "metadata": {},
   "source": [
    "* Buscar oportunidades en el barrio de San Blas\n",
    "* Todavía existen muchos alquileres que no están explotando este potencial"
   ]
  },
  {
   "cell_type": "code",
   "execution_count": null,
   "id": "9ddb021c-26a7-4669-9ef7-0547d9d6b352",
   "metadata": {},
   "outputs": [],
   "source": []
  }
 ],
 "metadata": {
  "kernelspec": {
   "display_name": "Python 3 (ipykernel)",
   "language": "python",
   "name": "python3"
  },
  "language_info": {
   "codemirror_mode": {
    "name": "ipython",
    "version": 3
   },
   "file_extension": ".py",
   "mimetype": "text/x-python",
   "name": "python",
   "nbconvert_exporter": "python",
   "pygments_lexer": "ipython3",
   "version": "3.12.3"
  },
  "toc": {
   "base_numbering": 1,
   "nav_menu": {},
   "number_sections": true,
   "sideBar": true,
   "skip_h1_title": false,
   "title_cell": "Table of Contents",
   "title_sidebar": "Contents",
   "toc_cell": false,
   "toc_position": {},
   "toc_section_display": true,
   "toc_window_display": true
  },
  "varInspector": {
   "cols": {
    "lenName": 16,
    "lenType": 16,
    "lenVar": 40
   },
   "kernels_config": {
    "python": {
     "delete_cmd_postfix": "",
     "delete_cmd_prefix": "del ",
     "library": "var_list.py",
     "varRefreshCmd": "print(var_dic_list())"
    },
    "r": {
     "delete_cmd_postfix": ") ",
     "delete_cmd_prefix": "rm(",
     "library": "var_list.r",
     "varRefreshCmd": "cat(var_dic_list()) "
    }
   },
   "types_to_exclude": [
    "module",
    "function",
    "builtin_function_or_method",
    "instance",
    "_Feature"
   ],
   "window_display": false
  }
 },
 "nbformat": 4,
 "nbformat_minor": 5
}
